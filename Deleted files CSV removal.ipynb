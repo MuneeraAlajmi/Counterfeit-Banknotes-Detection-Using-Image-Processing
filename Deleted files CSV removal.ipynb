{
  "nbformat": 4,
  "nbformat_minor": 0,
  "metadata": {
    "colab": {
      "provenance": []
    },
    "kernelspec": {
      "name": "python3",
      "display_name": "Python 3"
    },
    "language_info": {
      "name": "python"
    }
  },
  "cells": [
    {
      "cell_type": "code",
      "execution_count": 2,
      "metadata": {
        "colab": {
          "base_uri": "https://localhost:8080/"
        },
        "id": "_Xy5olpGryTB",
        "outputId": "68084828-6084-4acb-82dd-b45eca664ac2"
      },
      "outputs": [
        {
          "output_type": "stream",
          "name": "stdout",
          "text": [
            "Mounted at /content/drive\n"
          ]
        }
      ],
      "source": [
        "from google.colab import drive\n",
        "drive.mount('/content/drive')"
      ]
    },
    {
      "cell_type": "code",
      "source": [
        "import os\n",
        "import pandas as pd\n",
        "from google.colab import files\n",
        "\n",
        "base_path = '/content/drive/My Drive/arch_images'\n",
        "\n",
        "# empty list to store file names\n",
        "file_names = []\n",
        "\n",
        "# Walk through all directories and files in the folder\n",
        "for dirpath, dirnames, filenames in os.walk(base_path):\n",
        "    for file in filenames:\n",
        "        # for getting the full path than only the file names\n",
        "        # full_path = os.path.join(dirpath, file)\n",
        "        file_names.append(file)\n",
        "\n",
        "# Create a DataFrame with file names\n",
        "df = pd.DataFrame(file_names, columns=['File Name'])\n",
        "\n",
        "print(df.shape)"
      ],
      "metadata": {
        "colab": {
          "base_uri": "https://localhost:8080/"
        },
        "id": "82JEY7MKw-wX",
        "outputId": "7de05037-23ae-48c9-bc49-c7228bcf67dd"
      },
      "execution_count": 9,
      "outputs": [
        {
          "output_type": "stream",
          "name": "stdout",
          "text": [
            "(1337, 1)\n"
          ]
        }
      ]
    },
    {
      "cell_type": "code",
      "source": [
        "# The path to the 'Removed' directory\n",
        "removed_path = '/content/drive/My Drive/Removed'\n",
        "\n",
        "# empty list to store file names from the 'Removed' directory\n",
        "removed_file_names = []\n",
        "\n",
        "# Walk through all directories and files in the 'Removed' folder\n",
        "for dirpath, dirnames, filenames in os.walk(removed_path):\n",
        "    for file in filenames:\n",
        "        removed_file_names.append(file)\n",
        "\n",
        "# Create a DataFrame with file names from the 'Removed' directory\n",
        "df_removed = pd.DataFrame(removed_file_names, columns=['File Name'])\n",
        "\n",
        "print(df_removed.head())"
      ],
      "metadata": {
        "colab": {
          "base_uri": "https://localhost:8080/"
        },
        "id": "DVu8GcCvY0ia",
        "outputId": "a838e867-7a25-4364-dc22-9d21a7762b31"
      },
      "execution_count": 10,
      "outputs": [
        {
          "output_type": "stream",
          "name": "stdout",
          "text": [
            "          File Name\n",
            "0    SR 10 (46).JPG\n",
            "1  SR 100 (11).jpeg\n",
            "2   SR 10 (74).jpeg\n",
            "3     SR 5 (56).jpg\n",
            "4  SR 200 (110).jpg\n"
          ]
        }
      ]
    },
    {
      "cell_type": "code",
      "source": [
        "# df - df_removed (remove file names in 'Removed' from the big dataframe)\n",
        "df_filtered = df[~df['File Name'].isin(df_removed['File Name'])]"
      ],
      "metadata": {
        "id": "BO4QriaJaOdA"
      },
      "execution_count": 11,
      "outputs": []
    },
    {
      "cell_type": "code",
      "source": [
        "# Save the filtered DataFrame to a temporary CSV file\n",
        "df_filtered.to_csv('Filtered_Files.csv', index=False)\n",
        "\n",
        "# Download the file into your laptop\n",
        "files.download('Filtered_Files.csv')"
      ],
      "metadata": {
        "colab": {
          "base_uri": "https://localhost:8080/",
          "height": 17
        },
        "id": "A8WpsEB3azkd",
        "outputId": "d93eecb6-2d22-47b8-924a-a4a45dc9adfe"
      },
      "execution_count": 12,
      "outputs": [
        {
          "output_type": "display_data",
          "data": {
            "text/plain": [
              "<IPython.core.display.Javascript object>"
            ],
            "application/javascript": [
              "\n",
              "    async function download(id, filename, size) {\n",
              "      if (!google.colab.kernel.accessAllowed) {\n",
              "        return;\n",
              "      }\n",
              "      const div = document.createElement('div');\n",
              "      const label = document.createElement('label');\n",
              "      label.textContent = `Downloading \"${filename}\": `;\n",
              "      div.appendChild(label);\n",
              "      const progress = document.createElement('progress');\n",
              "      progress.max = size;\n",
              "      div.appendChild(progress);\n",
              "      document.body.appendChild(div);\n",
              "\n",
              "      const buffers = [];\n",
              "      let downloaded = 0;\n",
              "\n",
              "      const channel = await google.colab.kernel.comms.open(id);\n",
              "      // Send a message to notify the kernel that we're ready.\n",
              "      channel.send({})\n",
              "\n",
              "      for await (const message of channel.messages) {\n",
              "        // Send a message to notify the kernel that we're ready.\n",
              "        channel.send({})\n",
              "        if (message.buffers) {\n",
              "          for (const buffer of message.buffers) {\n",
              "            buffers.push(buffer);\n",
              "            downloaded += buffer.byteLength;\n",
              "            progress.value = downloaded;\n",
              "          }\n",
              "        }\n",
              "      }\n",
              "      const blob = new Blob(buffers, {type: 'application/binary'});\n",
              "      const a = document.createElement('a');\n",
              "      a.href = window.URL.createObjectURL(blob);\n",
              "      a.download = filename;\n",
              "      div.appendChild(a);\n",
              "      a.click();\n",
              "      div.remove();\n",
              "    }\n",
              "  "
            ]
          },
          "metadata": {}
        },
        {
          "output_type": "display_data",
          "data": {
            "text/plain": [
              "<IPython.core.display.Javascript object>"
            ],
            "application/javascript": [
              "download(\"download_0360dcb1-3930-46cf-9d3b-e5f90dad295a\", \"Filtered_Files.csv\", 13934)"
            ]
          },
          "metadata": {}
        }
      ]
    },
    {
      "cell_type": "code",
      "source": [],
      "metadata": {
        "id": "ZkU6O7VkbOty"
      },
      "execution_count": null,
      "outputs": []
    }
  ]
}