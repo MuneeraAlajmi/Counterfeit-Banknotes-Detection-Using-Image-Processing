{
  "nbformat": 4,
  "nbformat_minor": 0,
  "metadata": {
    "colab": {
      "provenance": []
    },
    "kernelspec": {
      "name": "python3",
      "display_name": "Python 3"
    },
    "language_info": {
      "name": "python"
    }
  },
  "cells": [
    {
      "cell_type": "markdown",
      "source": [
        "# Data processing 1\n",
        "\n",
        "1.   Binarization by Adaptive Threshold\n",
        "2. Dilation\n",
        "3.   Canny Edge Detection\n",
        "\n",
        "\n",
        "\n"
      ],
      "metadata": {
        "id": "4NX8L0Au0XtC"
      }
    },
    {
      "cell_type": "code",
      "source": [
        "from PIL import Image, ImageEnhance\n",
        "import matplotlib.pyplot as plt\n",
        "import cv2\n",
        "import numpy as np\n",
        "import os"
      ],
      "metadata": {
        "id": "YgEloTaCkRM6"
      },
      "execution_count": null,
      "outputs": []
    },
    {
      "cell_type": "code",
      "source": [
        "from google.colab import drive\n",
        "drive.mount('/content/drive')"
      ],
      "metadata": {
        "colab": {
          "base_uri": "https://localhost:8080/"
        },
        "id": "RExIvu_GkYD0",
        "outputId": "19de46b2-0a46-4503-cddf-437b1bf3b950"
      },
      "execution_count": null,
      "outputs": [
        {
          "output_type": "stream",
          "name": "stdout",
          "text": [
            "Mounted at /content/drive\n"
          ]
        }
      ]
    },
    {
      "cell_type": "code",
      "source": [
        "import numpy as np\n",
        "import os\n",
        "import cv2\n",
        "from PIL import Image\n",
        "import matplotlib.pyplot as plt\n",
        "\n",
        "kernel = np.ones((3, 3), np.uint8)\n",
        "path = '/content/drive/My Drive/New_Floos'\n",
        "output_path = '/content/drive/My Drive/Output_Floosf'  # Define output directory\n",
        "os.makedirs(output_path, exist_ok=True)  # Create the output directory if it doesn't exist\n",
        "\n",
        "images = [os.path.join(path, f) for f in os.listdir(path)]\n",
        "\n",
        "for x in images:\n",
        "    binary_image_adaptive = cv2.adaptiveThreshold(cv2.imread(x, 0), 255, cv2.ADAPTIVE_THRESH_MEAN_C,\n",
        "                                                  cv2.THRESH_BINARY, 119, 2)\n",
        "    dilation = cv2.dilate(binary_image_adaptive, kernel, iterations=4)\n",
        "    edges = cv2.Canny(dilation, 100, 200)\n",
        "\n",
        "    plt.figure(figsize=(10, 5))\n",
        "    plt.imshow(edges, cmap='gray')\n",
        "    plt.axis('off')\n",
        "\n",
        "    # Save the figure to the output directory with a unique name based on the input image\n",
        "    output_filename = os.path.basename(x) + '_output.png'\n",
        "    plt.savefig(os.path.join(output_path, output_filename))\n",
        "\n",
        "    plt.close()  # Close the figure to release memory\n",
        "\n",
        "print(\"Images saved to:\", output_path)\n"
      ],
      "metadata": {
        "colab": {
          "base_uri": "https://localhost:8080/"
        },
        "id": "-ocbFqtrpStt",
        "outputId": "65efa13c-20ac-435e-e185-727f499c224b"
      },
      "execution_count": null,
      "outputs": [
        {
          "output_type": "stream",
          "name": "stdout",
          "text": [
            "Images saved to: /content/drive/My Drive/Output_Floosf\n"
          ]
        }
      ]
    },
    {
      "cell_type": "code",
      "source": [],
      "metadata": {
        "id": "5efd0stnyKxW"
      },
      "execution_count": null,
      "outputs": []
    }
  ]
}