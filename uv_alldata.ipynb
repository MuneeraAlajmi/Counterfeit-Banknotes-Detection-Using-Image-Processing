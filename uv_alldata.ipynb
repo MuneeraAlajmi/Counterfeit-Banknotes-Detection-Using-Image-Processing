{
  "cells": [
    {
      "cell_type": "code",
      "execution_count": null,
      "metadata": {
        "colab": {
          "base_uri": "https://localhost:8080/"
        },
        "id": "3-6aIjCbpZ4D",
        "outputId": "a4dd1b61-0dd3-44f2-9b95-04d4acf55bce"
      },
      "outputs": [
        {
          "name": "stdout",
          "output_type": "stream",
          "text": [
            "Mounted at /content/drive\n"
          ]
        }
      ],
      "source": [
        "from google.colab import drive\n",
        "drive.mount('/content/drive')"
      ]
    },
    {
      "cell_type": "code",
      "execution_count": null,
      "metadata": {
        "colab": {
          "base_uri": "https://localhost:8080/"
        },
        "id": "Bx5lI5WCpXT-",
        "outputId": "ccb0b474-3508-456c-b174-28bf7340fefe"
      },
      "outputs": [
        {
          "name": "stdout",
          "output_type": "stream",
          "text": [
            "Images saved to: /content/drive/My Drive/Output_Floosuv\n"
          ]
        }
      ],
      "source": [
        "import cv2\n",
        "import numpy as np\n",
        "import os\n",
        "import matplotlib.pyplot as plt\n",
        "from skimage.color import rgb2gray\n",
        "from skimage.io import imread\n",
        "from skimage.feature import canny\n",
        "\n",
        "\n",
        "path = '/content/drive/My Drive/New_Floos'\n",
        "output_path = '/content/drive/My Drive/Output_Floosuv'\n",
        "os.makedirs(output_path, exist_ok=True)\n",
        "images = [os.path.join(path, f) for f in os.listdir(path)]\n",
        "for i in images:\n",
        "  image = cv2.imread(i)\n",
        "\n",
        "  yuv_image = cv2.cvtColor(image, cv2.COLOR_BGR2YUV)\n",
        "\n",
        "# Define ranges for bright blues, greens, and yellows that might be enhanced under UV light\n",
        "# You may adjust those ranges\n",
        "  blue_range = cv2.inRange(yuv_image, (np.array([90, 50, 70])), (np.array([130, 255, 255])))\n",
        "  green_range = cv2.inRange(yuv_image, (np.array([50, 50, 70])), (np.array([70, 255, 255])))\n",
        "  yellow_range = cv2.inRange(yuv_image, (np.array([20, 100, 100])), (np.array([30, 255, 255])))\n",
        "\n",
        "# Blend the original YUV image with the combined mask using weighted addition\n",
        "  uv_effect_image = cv2.addWeighted(yuv_image, 1.0, cv2.merge([blue_range, green_range, yellow_range]), 0.5, 0)\n",
        "\n",
        "  final_image = cv2.cvtColor(uv_effect_image, cv2.COLOR_YUV2BGR)\n",
        "  plt.figure(figsize=(10, 5))\n",
        "  plt.imshow(final_image)\n",
        "  plt.axis('off')\n",
        "  output_filename = os.path.basename(i) + '_output.png'\n",
        "  plt.savefig(os.path.join(output_path, output_filename))\n",
        "\n",
        "  plt.close()\n",
        "\n",
        "print(\"Images saved to:\", output_path)\n",
        "# cv2.imwrite('uv_effect_image.jpg', final_image)\n",
        "\n"
      ]
    }
  ],
  "metadata": {
    "colab": {
      "provenance": []
    },
    "kernelspec": {
      "display_name": "Python 3",
      "name": "python3"
    },
    "language_info": {
      "name": "python"
    }
  },
  "nbformat": 4,
  "nbformat_minor": 0
}