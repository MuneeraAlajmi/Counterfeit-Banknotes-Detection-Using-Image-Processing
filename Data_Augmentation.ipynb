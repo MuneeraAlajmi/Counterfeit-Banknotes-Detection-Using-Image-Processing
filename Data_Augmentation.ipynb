{
  "nbformat": 4,
  "nbformat_minor": 0,
  "metadata": {
    "colab": {
      "provenance": []
    },
    "kernelspec": {
      "name": "python3",
      "display_name": "Python 3"
    },
    "language_info": {
      "name": "python"
    }
  },
  "cells": [
    {
      "cell_type": "markdown",
      "source": [
        "# Data Augmentation"
      ],
      "metadata": {
        "id": "J02klC2ovZfS"
      }
    },
    {
      "cell_type": "code",
      "source": [
        "from PIL import Image, ImageEnhance\n",
        "import tensorflow as tf\n",
        "import matplotlib.pyplot as plt\n",
        "from google.colab import files\n",
        "import os\n",
        "import numpy as np\n",
        "import zipfile"
      ],
      "metadata": {
        "id": "5yVgz470XOWJ"
      },
      "execution_count": null,
      "outputs": []
    },
    {
      "cell_type": "code",
      "source": [
        "from keras.preprocessing.image import ImageDataGenerator, array_to_img, img_to_array, load_img"
      ],
      "metadata": {
        "id": "5Y2Wvd-qbsnB"
      },
      "execution_count": null,
      "outputs": []
    },
    {
      "cell_type": "code",
      "execution_count": null,
      "metadata": {
        "id": "pKOedcTDUiCo"
      },
      "outputs": [],
      "source": [
        "datagen = ImageDataGenerator(\n",
        "        rotation_range=40,\n",
        "        width_shift_range=0,\n",
        "        height_shift_range=0,\n",
        "        shear_range=0.2,\n",
        "        zoom_range=0.2,\n",
        "        horizontal_flip=True,\n",
        "        fill_mode='nearest')"
      ]
    },
    {
      "cell_type": "code",
      "source": [
        "# Just needed in case you'd like to append it to an array\n",
        "data = []\n",
        "\n",
        "for filename in os.listdir(\"/content/projects\"):\n",
        "    if filename.endswith(\"jpg\"):\n",
        "        # Your code comes here such as\n",
        "        data.append(filename)"
      ],
      "metadata": {
        "id": "eXICEQ43O4wL"
      },
      "execution_count": null,
      "outputs": []
    },
    {
      "cell_type": "code",
      "source": [
        "for i in range(len(data)):\n",
        "    if isinstance(data[i], str):\n",
        "        # Load the image from the file path\n",
        "        data[i] = load_img(f\"/content/projects/{data[i]}\")\n",
        "    data[i] = img_to_array(data[i])\n",
        "\n",
        "for i in range(len(data)):\n",
        "    data[i] = data[i].reshape((1,) + data[i].shape)"
      ],
      "metadata": {
        "id": "htRHA4-Ap08E"
      },
      "execution_count": null,
      "outputs": []
    },
    {
      "cell_type": "code",
      "source": [
        "for x in data:\n",
        "  print(x.size)"
      ],
      "metadata": {
        "colab": {
          "base_uri": "https://localhost:8080/"
        },
        "id": "fmsmR1to2spx",
        "outputId": "a4646fb3-4be6-4983-9f72-f05ef414b411"
      },
      "execution_count": null,
      "outputs": [
        {
          "output_type": "stream",
          "name": "stdout",
          "text": [
            "3686400\n",
            "3686400\n",
            "1746360\n",
            "1963368\n",
            "3686400\n",
            "1486848\n",
            "3686400\n",
            "1949058\n",
            "2332800\n",
            "3686400\n",
            "3686400\n",
            "678300\n",
            "3686400\n",
            "3686400\n",
            "3686400\n",
            "1406976\n",
            "1083324\n",
            "3686400\n"
          ]
        }
      ]
    },
    {
      "cell_type": "code",
      "source": [
        "i = 0\n",
        "for x in data:\n",
        "  i=0\n",
        "  for batch in datagen.flow(x, batch_size= 1 , save_to_dir='/content/fo', save_prefix='fake_bill', save_format='jpg'):\n",
        "     i += 1\n",
        "     if i > 17:\n",
        "        break\n"
      ],
      "metadata": {
        "id": "-djtvwh-N8iB"
      },
      "execution_count": null,
      "outputs": []
    },
    {
      "cell_type": "markdown",
      "source": [
        "# Downloading to device"
      ],
      "metadata": {
        "id": "Ef_A-qS5n2rP"
      }
    },
    {
      "cell_type": "code",
      "source": [
        "# Create a ZIP file, you can name it with any name you want\n",
        "%cd /content/fo\n",
        "zip_path = 'images.zip'\n",
        "with zipfile.ZipFile(zip_path, 'w') as zipf:\n",
        "   # Loop through all the files in the directory\n",
        "   for file in os.listdir():\n",
        "    if file.endswith('.jpg'):  # Here just to zip ONLY image files, nothing else such as other folder/non-image files\n",
        "        zipf.write(file)\n",
        "# Download the created ZIP file\n",
        "files.download(zip_path)"
      ],
      "metadata": {
        "colab": {
          "base_uri": "https://localhost:8080/",
          "height": 35
        },
        "id": "CXHQMeZ2_mWR",
        "outputId": "d62e2366-b477-4ae4-f168-f582281ce7fd"
      },
      "execution_count": null,
      "outputs": [
        {
          "output_type": "stream",
          "name": "stdout",
          "text": [
            "/content/fo\n"
          ]
        },
        {
          "output_type": "display_data",
          "data": {
            "text/plain": [
              "<IPython.core.display.Javascript object>"
            ],
            "application/javascript": [
              "\n",
              "    async function download(id, filename, size) {\n",
              "      if (!google.colab.kernel.accessAllowed) {\n",
              "        return;\n",
              "      }\n",
              "      const div = document.createElement('div');\n",
              "      const label = document.createElement('label');\n",
              "      label.textContent = `Downloading \"${filename}\": `;\n",
              "      div.appendChild(label);\n",
              "      const progress = document.createElement('progress');\n",
              "      progress.max = size;\n",
              "      div.appendChild(progress);\n",
              "      document.body.appendChild(div);\n",
              "\n",
              "      const buffers = [];\n",
              "      let downloaded = 0;\n",
              "\n",
              "      const channel = await google.colab.kernel.comms.open(id);\n",
              "      // Send a message to notify the kernel that we're ready.\n",
              "      channel.send({})\n",
              "\n",
              "      for await (const message of channel.messages) {\n",
              "        // Send a message to notify the kernel that we're ready.\n",
              "        channel.send({})\n",
              "        if (message.buffers) {\n",
              "          for (const buffer of message.buffers) {\n",
              "            buffers.push(buffer);\n",
              "            downloaded += buffer.byteLength;\n",
              "            progress.value = downloaded;\n",
              "          }\n",
              "        }\n",
              "      }\n",
              "      const blob = new Blob(buffers, {type: 'application/binary'});\n",
              "      const a = document.createElement('a');\n",
              "      a.href = window.URL.createObjectURL(blob);\n",
              "      a.download = filename;\n",
              "      div.appendChild(a);\n",
              "      a.click();\n",
              "      div.remove();\n",
              "    }\n",
              "  "
            ]
          },
          "metadata": {}
        },
        {
          "output_type": "display_data",
          "data": {
            "text/plain": [
              "<IPython.core.display.Javascript object>"
            ],
            "application/javascript": [
              "download(\"download_ffa5168d-daa6-4ef9-abce-56a4804565fd\", \"images.zip\", 33635110)"
            ]
          },
          "metadata": {}
        }
      ]
    }
  ]
}