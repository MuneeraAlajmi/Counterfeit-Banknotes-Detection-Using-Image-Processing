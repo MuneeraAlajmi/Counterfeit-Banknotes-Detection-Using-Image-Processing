{
  "nbformat": 4,
  "nbformat_minor": 0,
  "metadata": {
    "colab": {
      "provenance": []
    },
    "kernelspec": {
      "name": "python3",
      "display_name": "Python 3"
    },
    "language_info": {
      "name": "python"
    }
  },
  "cells": [
    {
      "cell_type": "code",
      "execution_count": null,
      "metadata": {
        "colab": {
          "base_uri": "https://localhost:8080/"
        },
        "id": "_Xy5olpGryTB",
        "outputId": "0b1f2aa7-5111-4686-9e97-e6b7ad1a76a4"
      },
      "outputs": [
        {
          "output_type": "stream",
          "name": "stdout",
          "text": [
            "Drive already mounted at /content/drive; to attempt to forcibly remount, call drive.mount(\"/content/drive\", force_remount=True).\n"
          ]
        }
      ],
      "source": [
        "from google.colab import drive\n",
        "drive.mount('/content/drive')"
      ]
    },
    {
      "cell_type": "code",
      "source": [
        "import os\n",
        "import pandas as pd\n",
        "from google.colab import files\n",
        "from PIL import Image\n",
        "\n",
        "#path to data file\n",
        "base_path = '/content/drive/My Drive/Output_Floosl10'\n",
        "\n",
        "# empty list to store file names\n",
        "file_names = []\n",
        "file_paths= []\n",
        "\n",
        "# Walk through all directories and files in the folder\n",
        "for dirpath, dirnames, filenames in os.walk(base_path):\n",
        "    for file in filenames:\n",
        "        # for getting the full path than only the file names\n",
        "        full_path = os.path.join(dirpath, file)\n",
        "        file_names.append(file)\n",
        "        file_paths.append(full_path)\n",
        "\n",
        "# Create a DataFrame with file names and file paths\n",
        "d= {'File Name After Processing' : file_names ,  'File Path After Processing' : file_paths}\n",
        "df = pd.DataFrame(d)\n",
        "\n",
        "\n",
        "print(df.head())"
      ],
      "metadata": {
        "colab": {
          "base_uri": "https://localhost:8080/"
        },
        "id": "82JEY7MKw-wX",
        "outputId": "135fecff-b7b0-4dcf-cfbe-93349281562e"
      },
      "execution_count": null,
      "outputs": [
        {
          "output_type": "stream",
          "name": "stdout",
          "text": [
            "   File Name After Processing  \\\n",
            "0  SR 10 (13).jpeg_output.png   \n",
            "1   SR 10 (17).jpg_output.png   \n",
            "2    SR 10 (1).jpg_output.png   \n",
            "3  SR 10 (106).jpg_output.png   \n",
            "4   SR 10 (34).JPG_output.png   \n",
            "\n",
            "                          File Path After Processing  \n",
            "0  /content/drive/My Drive/Output_Floosl10/SR 10 ...  \n",
            "1  /content/drive/My Drive/Output_Floosl10/SR 10 ...  \n",
            "2  /content/drive/My Drive/Output_Floosl10/SR 10 ...  \n",
            "3  /content/drive/My Drive/Output_Floosl10/SR 10 ...  \n",
            "4  /content/drive/My Drive/Output_Floosl10/SR 10 ...  \n"
          ]
        }
      ]
    },
    {
      "cell_type": "code",
      "source": [
        "# Save the DataFrame to a CSV file\n",
        "csv_file_path = '/content/Test_Floos (2).csv'\n",
        "existing_df = pd.read_csv(csv_file_path)\n",
        "existing_df['File Name After Processing2']=file_names\n",
        "existing_df['File Path After Processing2']=file_paths\n",
        "existing_df.to_csv(csv_file_path, index=False)"
      ],
      "metadata": {
        "id": "A8WpsEB3azkd"
      },
      "execution_count": null,
      "outputs": []
    },
    {
      "cell_type": "code",
      "source": [
        "import pandas as pd\n",
        "from PIL import Image\n",
        "import os\n",
        "\n",
        "# Function to calculate image properties\n",
        "def calculate_image_properties(image_path):\n",
        "    with Image.open(image_path) as img:\n",
        "        size = os.path.getsize(image_path)  # Get file size\n",
        "        width, height = img.size  # Get image width and height\n",
        "    return size, width, height\n",
        "\n",
        "# Read CSV file containing image filenames\n",
        "csv_file = '/content/Floos_database.csv'  # Replace with your CSV file path\n",
        "image_data = pd.read_csv(csv_file)\n",
        "\n",
        "# List to store height, width, and size values\n",
        "height_list = []\n",
        "width_list = []\n",
        "size_list = []\n",
        "\n",
        "# Iterate through each image filename\n",
        "for index, row in image_data.iterrows():\n",
        "    image_filename = row['File Name']  # File Name is the column containing image filenames\n",
        "    image_path = os.path.join('/content/drive/My Drive/Combined_Floos', image_filename)  # Images folder\n",
        "\n",
        "    # Calculate image properties\n",
        "    try:\n",
        "        size, width, height = calculate_image_properties(image_path)\n",
        "        size_list.append(size)\n",
        "        width_list.append(width)\n",
        "        height_list.append(height)\n",
        "        #print(f\"Image: {image_filename}, Size: {size} bytes, Width: {width}, Height: {height}\")\n",
        "    except Exception as e:\n",
        "        print(f\"Error processing image {image_filename}: {e}\")\n",
        "\n",
        "# Add new columns to the DataFrame\n",
        "image_data['width'] = width_list\n",
        "image_data['height'] = height_list\n",
        "image_data['size'] = size_list\n",
        "\n",
        "# Save the DataFrame back to the existing CSV file\n",
        "image_data.to_csv(csv_file, index=False)\n",
        "#Download to my laptop\n",
        "files.download(csv_file)\n"
      ],
      "metadata": {
        "id": "ZkU6O7VkbOty",
        "colab": {
          "base_uri": "https://localhost:8080/",
          "height": 17
        },
        "outputId": "826f5c2c-2a85-46a1-9361-38e1f3a52371"
      },
      "execution_count": null,
      "outputs": [
        {
          "output_type": "display_data",
          "data": {
            "text/plain": [
              "<IPython.core.display.Javascript object>"
            ],
            "application/javascript": [
              "\n",
              "    async function download(id, filename, size) {\n",
              "      if (!google.colab.kernel.accessAllowed) {\n",
              "        return;\n",
              "      }\n",
              "      const div = document.createElement('div');\n",
              "      const label = document.createElement('label');\n",
              "      label.textContent = `Downloading \"${filename}\": `;\n",
              "      div.appendChild(label);\n",
              "      const progress = document.createElement('progress');\n",
              "      progress.max = size;\n",
              "      div.appendChild(progress);\n",
              "      document.body.appendChild(div);\n",
              "\n",
              "      const buffers = [];\n",
              "      let downloaded = 0;\n",
              "\n",
              "      const channel = await google.colab.kernel.comms.open(id);\n",
              "      // Send a message to notify the kernel that we're ready.\n",
              "      channel.send({})\n",
              "\n",
              "      for await (const message of channel.messages) {\n",
              "        // Send a message to notify the kernel that we're ready.\n",
              "        channel.send({})\n",
              "        if (message.buffers) {\n",
              "          for (const buffer of message.buffers) {\n",
              "            buffers.push(buffer);\n",
              "            downloaded += buffer.byteLength;\n",
              "            progress.value = downloaded;\n",
              "          }\n",
              "        }\n",
              "      }\n",
              "      const blob = new Blob(buffers, {type: 'application/binary'});\n",
              "      const a = document.createElement('a');\n",
              "      a.href = window.URL.createObjectURL(blob);\n",
              "      a.download = filename;\n",
              "      div.appendChild(a);\n",
              "      a.click();\n",
              "      div.remove();\n",
              "    }\n",
              "  "
            ]
          },
          "metadata": {}
        },
        {
          "output_type": "display_data",
          "data": {
            "text/plain": [
              "<IPython.core.display.Javascript object>"
            ],
            "application/javascript": [
              "download(\"download_bcda9b8c-2a21-4de2-af6f-114041930394\", \"Floos_database.csv\", 106347)"
            ]
          },
          "metadata": {}
        }
      ]
    },
    {
      "cell_type": "code",
      "source": [],
      "metadata": {
        "id": "c-xg0-LGy0X8"
      },
      "execution_count": null,
      "outputs": []
    }
  ]
}